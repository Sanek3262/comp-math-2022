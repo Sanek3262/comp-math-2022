{
 "cells": [
  {
   "cell_type": "markdown",
   "id": "3e3a2ec1-084b-4a77-85a6-e6317c03659b",
   "metadata": {
    "tags": []
   },
   "source": [
    "# Практическая работа №1: Исследование алгоритмов формирования аддитивных цепочек\n",
    "\n",
    "\\\n",
    "Выполнил: \n",
    "\\\n",
    "студент группы 0392 Елагин Владислав\n",
    "\\\n",
    "Вариант 71"
   ]
  },
  {
   "cell_type": "markdown",
   "id": "64debb23-bcb5-4d52-97c5-5e3c000709f1",
   "metadata": {
    "tags": []
   },
   "source": [
    "## Задание №1\n",
    "\n",
    "Вручную (т.е. не реализовывая алгоритм на Sage) построить последовательность вычислений бинарным методом и методом множителей для $x^n$ для 2-3 значений n (значение n $\\geq$ 30 выбираются студентом самостоятельно). Сравнить количество операций для каждого метода, сделать выводы."
   ]
  },
  {
   "cell_type": "code",
   "execution_count": 1,
   "id": "a5100038-1858-4f69-8df7-6678c11a2367",
   "metadata": {
    "tags": []
   },
   "outputs": [],
   "source": [
    "## Бинарный метод"
   ]
  },
  {
   "cell_type": "markdown",
   "id": "03c08afc-bb53-4b6e-8084-561c92001734",
   "metadata": {},
   "source": [
    "\\\\[\n",
    "  n_1=36_{10}=100100_2 \\rightarrow SSSXSS\n",
    "\\\\]"
   ]
  },
  {
   "cell_type": "markdown",
   "id": "fbff14b6-1a9b-4a19-9a3a-2f03ffae84df",
   "metadata": {},
   "source": [
    "\\\\[\n",
    "x,x^2,x^4,x^8,x^9,x^{18},x^{36} - 6 \\text{ операций}\n",
    "\\\\]"
   ]
  },
  {
   "cell_type": "markdown",
   "id": "165dc3e3-35db-4400-ae60-329d39b2066a",
   "metadata": {},
   "source": [
    "\\\\[\n",
    "  n_2=72_{10}=1001000_2 \\rightarrow SSSXSSS\n",
    "\\\\]"
   ]
  },
  {
   "cell_type": "markdown",
   "id": "f323f49f-0e14-4c05-bf28-f8b4a49c6e8e",
   "metadata": {},
   "source": [
    "\\\\[\n",
    "  x,x^2,x^4,x^8,x^9,x^{18},x^{36},x^{72} - 7 \\text{ операций}\n",
    "\\\\]"
   ]
  },
  {
   "cell_type": "markdown",
   "id": "d1ce6853-dbbb-4fc5-91fb-6fac6079ed4e",
   "metadata": {
    "tags": []
   },
   "source": [
    "\\\\[\n",
    "  n_3=100=1100100_2 \\rightarrow SXSSSXSS\n",
    "\\\\]"
   ]
  },
  {
   "cell_type": "markdown",
   "id": "64b66bac-406b-4d89-81f6-af6f196683a4",
   "metadata": {
    "tags": []
   },
   "source": [
    "\\\\[\n",
    "  x,x^2,x^3,x^6,x^{12},x^{24},x^{25},x^{50},x^{100} - 8 \\text{ операций}\n",
    "\\\\]"
   ]
  },
  {
   "cell_type": "code",
   "execution_count": 2,
   "id": "07be8c5e-f074-438e-b238-6449c079c434",
   "metadata": {},
   "outputs": [],
   "source": [
    "## Метод множителей"
   ]
  },
  {
   "cell_type": "markdown",
   "id": "78342fa8-80c0-47f9-8748-df0cbb079c1d",
   "metadata": {},
   "source": [
    "\\\\[\n",
    "n_1=36=2*18x^{36}=(x^2)^{18}\n",
    "\\\\]\n",
    "\\\\[\n",
    "x^{36}=(x^2)^{18}\n",
    "\\\\]\n",
    "\\\\[\n",
    "x^2=y \n",
    "\\\\]\n",
    "\\\\[\n",
    "((((y^2)^2)^2)*y)\n",
    "\\\\]\n",
    "\\\\[\n",
    "x,x^2 - 1 \\text{ операция}\n",
    "\\\\]\n",
    "\\\\[\n",
    "y,y^2,y^4,y^8,y^9 - 4 \\text{ операции}\n",
    "\\\\]\n",
    "В сумме 5 операций"
   ]
  },
  {
   "cell_type": "markdown",
   "id": "3701c5f8-c4c4-4b96-aa5f-8586aaa7770d",
   "metadata": {},
   "source": [
    "\\\\[\n",
    "n_2=72=2*36\n",
    "\\\\]\n",
    "\\\\[\n",
    "x^{72}=(x^2)^{36}\n",
    "\\\\]\n",
    "\\\\[\n",
    "x^2=y\n",
    "\\\\]\n",
    "\\\\[\n",
    "((((y^2)^2)^2)*y)^2\n",
    "\\\\]\n",
    "\\\\[\n",
    "x,x^2 -  1 \\text{ операция}\n",
    "\\\\]\n",
    "\\\\[\n",
    "y,y^2,y^4,y^8,y^9,y^{18} -  5 \\text{ операций}\n",
    "\\\\]\n",
    "В сумме 6 операций \n"
   ]
  },
  {
   "cell_type": "markdown",
   "id": "7424d76a-7e8c-4632-8c9b-e24f9e29691e",
   "metadata": {},
   "source": [
    "\\\\[\n",
    "n_3=100=2*50\n",
    "\\\\]\n",
    "\\\\[\n",
    "x^{100}=(x^2)^{50}\n",
    "\\\\]\n",
    "\\\\[\n",
    "x^2=y\n",
    "\\\\]\n",
    "\\\\[\n",
    "((((y^2)*y)^2)^2)^2*y)^2\n",
    "\\\\]\n",
    "\\\\[\n",
    "x,x^2 -  1 \\text{ операция}\n",
    "\\\\]\n",
    "\\\\[\n",
    "y,y^2,y^3,y^6,y^{12},y^{24},y^{25},y^{50} -  7 \\text{ операций}\n",
    "\\\\]\n",
    "В сумме 8 операций"
   ]
  },
  {
   "cell_type": "markdown",
   "id": "79dd18fb-7393-4a34-96c9-c557e15e78ad",
   "metadata": {},
   "source": [
    "__*ВЫВОД:*__\n",
    "1. Метод множителей работает оптимальнее бинарного метода при больших числах;\n",
    "2. Бинарный метод реализуется проще, но при этом затраты на него не существенно больше."
   ]
  }
 ],
 "metadata": {
  "kernelspec": {
   "display_name": "Python 3 (ipykernel)",
   "language": "python",
   "name": "python3"
  },
  "language_info": {
   "codemirror_mode": {
    "name": "ipython",
    "version": 3
   },
   "file_extension": ".py",
   "mimetype": "text/x-python",
   "name": "python",
   "nbconvert_exporter": "python",
   "pygments_lexer": "ipython3",
   "version": "3.10.4"
  }
 },
 "nbformat": 4,
 "nbformat_minor": 5
}
