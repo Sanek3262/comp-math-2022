{
 "cells": [
  {
   "cell_type": "markdown",
   "metadata": {},
   "source": [
    "# Практическая работа №1\n",
    "\n",
    "Выполнил студент гр. 0391 Каскырбай Даулет, вариант 56."
   ]
  },
  {
   "cell_type": "markdown",
   "metadata": {},
   "source": [
    "# Тема работы:\n",
    "\n",
    "Исследование алгоритмов формирования аддитивных цепочек."
   ]
  },
  {
   "cell_type": "markdown",
   "metadata": {},
   "source": [
    "## Цель работы\n",
    "\n",
    "Формирование представления о аддитивных цепочках, выработать умение составлять и применять алгоритмы для нахождения минимальных\n",
    "аддитивных цепочек для заданного числа, привить навык использования\n",
    "систем компьютерной математики для реализации алгоритмов."
   ]
  },
  {
   "cell_type": "markdown",
   "metadata": {},
   "source": [
    "## Основные теоретические положения\n",
    "\n",
    "$\\quad$ Аддитивная цепочка - последовательность натуральных чисел от 1 до n\n",
    "$$ 1 = a_0, a_1, ..., a_r = n ,$$ \n",
    "где каждый элемент равен сумме каких-либо двух предыдущих элементов\n",
    "$$ a_{i} = a_{j} + a_{k}, k \\leq j < i $$\n",
    "\n",
    "$ l(n) $ - наименьшая длина аддитивной цепочки для заданного $ n \\in \\mathbb{N} $.\n",
    "\n",
    "Неравенство для метода множителей: $ \\quad l(mn) \\leq l(m) + l(n) $\n",
    "\n",
    "Неравенство для m-арного метода $ [m = 2^k, n = \\sum_{j=0}^{k} d_{j}m^{t-j}] $: $ \\quad l(n) = m - 2 + (k+1)t $\n",
    "\n",
    "Неравенство для бинарного алгоритма \"SX\": $ \\quad l(n) = \\lambda(n) + \\nu(n) - 1 $\n",
    "\n",
    "### Свойства аддитивных цепочек\n",
    "* Полагается, что все аддитивные цепочки - возрастающие:\n",
    "$ 1 = a_0 < a_1 < ... < a_r = n $\n",
    "* Если два числа из последовательности $\\{a_i\\}$ совпадают, то одно из них может быть опущено\n",
    "* Пара $ (j, k), 0 \\leq k < j < i $ называется шагом\n",
    "* Если существует более одной пары $ (j, k) $, полагается, что $ j $ - наибольшее из возможных \n",
    "\n",
    "### Виды шагов \n",
    "* удвоение: $ \\quad j = k = i - 1 $\n",
    "* звездный шаг: $ \\quad j = i - 1 $\n",
    "* малый шаг: $ \\quad \\lambda(a_{i}) = \\lambda(a_{i-1}) $\n",
    "\n",
    "### Свойства шагов\n",
    "* Первый шаг - всегда удвоение\n",
    "* Удвоение - звездный шаг, но никогда не малый шаг\n",
    "* За удвоением всегда следует звездный шаг\n",
    "* Если $ i-й $ шаг не малый, то $ (i + 1)-й $ - либо звездный, либо малый либо и тот, и другой\n",
    "* Если $ (i + 1)-й $ шаг ни звездный, ни малый, то $ i-й $ шаг должен быть малым\n",
    "\n",
    "### Теорема\n",
    "Если аддитивная цепочка включает $ d $ удвоений и $ f = r - d $ неудвоений, то \n",
    "$$ n \\leq 2^{d-1}F_{f+3}, $$\n",
    "где $ F_j $ - число Фибоначчи под номером $ j $.\n",
    "### Следствие из теоремы\n",
    "Если аддитивная цепочка содержит $ f $ удвоений и $ S $ малых шагов, то\n",
    "$$ S \\leq f \\leq \\frac{S}{1-log_2(\\varphi)}, $$ \n",
    "где $ \\varphi = \\frac{\\sqrt{5} + 1}{2} $ - золотое сечение.\n",
    "\n",
    "### Алгоритм Брауэра\n",
    "Для заданного числа $ n \\in \\mathbb{N} $ можно построить цепочку Брауэра с помощью рекуррентной формулы\n",
    "$$ B_k(n) = \n",
    "\\begin{cases} \n",
    "1, 2, 3, ..., 2^{k} - 1,\\  если \\  n < 2^{k}\\\\\n",
    "B_k(q), 2q, ..., 2^kq, n,\\  если \\  n \\geq 2^{k} и \\  q = \\lfloor{\\frac{n}{2^k}} \\rfloor\n",
    "\\end{cases} $$\n",
    "\n",
    "Данная цепочка будет иметь длину\n",
    "$$ l_B(n) = j(k + 1) + 2^k - 2 $$\n",
    "при условии, что $ jk \\leq \\lambda(n) < (j + 1)k $\n",
    "\n",
    "Длина цепочки будет минимизирована для больших $ n $, если \n",
    "$$ k = \\lambda(\\lambda(n)) - 2\\lambda(\\lambda(\\lambda(n))) $$\n",
    "\n",
    "#### Уточнения\n",
    "* Задается фикированный параметр $ k $. Выполняются вычисления вспомогательных чисел:\n",
    "$$ \n",
    "d = 2^k, q_1 = [\\frac{n}{d}], r_1 = n \\ mod \\ d \\Rightarrow n = q_{1}d + r_{1} \\ (0 \\leq r_{1} < d) \\\\\n",
    "q_2 = [\\frac{q_1}{d}], r_2 = q_1 \\ mod \\ d \\Rightarrow q_1 = q_{2}d + r_{2}\n",
    "$$\n",
    "* Данная процедура выполняется до тех пор, пока $ q_s $ не станет меньше $ d $. Следовательно $ q_{s-1} = q_{s}d + r_{s} $\n",
    "* Таким образом,\n",
    "$$ n = 2^kq_1 + r_1 = ... = 2^k(2^k(...(2^kq_s + r_s)...) + r_2) + r_1 $$\n",
    "$$ B_k(n): 1, 2, 3, ..., 2^k - 1, 2q_s, 4q_s, ..., 2^kq_s + r_s, ..., n $$\n",
    "\n",
    "### Алгоритм Яо\n",
    "* Имеет ту же вычислительную сложность, что и алгоритм Брауэра\n",
    "* Раскладываем число $ n \\in \\mathbb{N} $ в $ 2^k-ой $ системе счисления:\n",
    "$$ n = \\sum_{i=0}^j a_{j}2^{ik}, \\ a_j \\neq 0 $$\n",
    "* Введем функцию $ d(z) $:\n",
    "$$ d(z) = \\sum_{i: a_i = z} 2^{ik} $$\n",
    "\n",
    "#### Ход алгоритма\n",
    "* Задаем базовую последовательность: $ 1, 2, 4, ..., 2^{\\lambda(n)} $\n",
    "* Вычисляем значения $ d(z) $ для $ z \\in \\{ 1, 2, 3, ..., 2^k - 1 \\} $, причем $ d(z) \\neq 0 $\n",
    "* Вычисляем $ zd(z) $ для всех $ z $ \n",
    "* В конечном итоге получаем\n",
    "$$ n = \\sum_{z = 1}^{2^k - 1} zd(z) $$"
   ]
  },
  {
   "cell_type": "markdown",
   "metadata": {},
   "source": [
    "## Постановка задачи\n",
    "\n",
    "Реализовать точные и приближённые алгоритмы нахождения минимальных аддитивных цепочек с использованием системы компьютерной математики SageMath, провести анализ алгоритмов. Полученные результаты\n",
    "содержательно проинтерпретировать.\n"
   ]
  },
  {
   "cell_type": "markdown",
   "metadata": {},
   "source": [
    "## Порядок выполнения работы\n",
    "1.  Вручную (т.е. не реализовывая алгоритм на Sage) построить последовательность вычислений бинарным методом и методом множителей для $𝑥^𝑛$ для 2-3 значений 𝑛 (значение 𝑛 > 30 выбираются студентом самостоятельно). Сравнить количество операций для каждого метода, сделать выводы."
   ]
  },
  {
   "cell_type": "markdown",
   "metadata": {},
   "source": [
    "2. Реализовать алгоритм Яо для вычисления приближённых аддитивных цепочек для различных чисел при варьировании параметра 𝑘, сопоставить длины полученных аддитивных цепочек с минимальной аддитивной цепочкой для заданного числа. Сделать выводы."
   ]
  },
  {
   "cell_type": "markdown",
   "metadata": {},
   "source": [
    "3. Реализовать алгоритм дробления вектора индексов для нахождения минимальной звёздной цепочки для заданного числа. Протестировать алгоритм минимум для 5 значений 𝑛 > 1000. Указать, сколько времени потребовалось на поиск цепочки и какая цепочка получилась. Сравнить с предыдущими методами, сделать выводы."
   ]
  },
  {
   "cell_type": "markdown",
   "metadata": {},
   "source": [
    "4. Проверить гипотезу Шольца–Брауэра для всех натуральных 1 $\\leqslant$ 𝑛 $\\leqslant$ 12 на алгоритме дробления вектора индексов. Результаты оформить в виде таблицы. Сделать выводы."
   ]
  },
  {
   "cell_type": "markdown",
   "metadata": {},
   "source": [
    "# Пункт 1\n",
    "**Построим последовательность вычислений бинарным методом для $x^{31}$**"
   ]
  },
  {
   "cell_type": "markdown",
   "metadata": {},
   "source": [
    "| i \t| N \t| Y \t| Z \t|\n",
    "|---\t|---\t|---\t|---\t|\n",
    "| 0 \t| 31 \t| 1 \t| x \t|\n",
    "| 1 \t| 15 \t| x \t| x^2 \t|\n",
    "| 2 \t| 7 \t| x^3 \t| x^4 \t|\n",
    "| 3 \t| 3 \t| x^7 \t| x^8 \t|\n",
    "| 4 \t| 1 \t| x^15 \t| x^16 \t|\n",
    "| 5 \t| 0 \t| x^31 \t| x^16 \t|"
   ]
  },
  {
   "cell_type": "markdown",
   "metadata": {},
   "source": [
    "Вычислим число операций для возведения в степень $x^{31}$:\n",
    "\n",
    "Двоичная запись числа 31: 11111"
   ]
  },
  {
   "cell_type": "markdown",
   "metadata": {},
   "source": [
    "$l(31)$ = $\\lambda(31)$ + $\\nu(31)$ - 1 = 4 + 5 - 1 = 8"
   ]
  },
  {
   "cell_type": "markdown",
   "metadata": {},
   "source": [
    " **Построим последовательность вычислений бинарным методом для $x^{32}$**"
   ]
  },
  {
   "cell_type": "markdown",
   "metadata": {},
   "source": [
    "| i \t| N \t| Y \t| Z \t|\n",
    "|---\t|---\t|---\t|---\t|\n",
    "| 0 \t| 32 \t| 1 \t| x \t|\n",
    "| 1 \t| 16 \t| 1 \t| x^2 \t|\n",
    "| 2 \t| 8 \t| 1 \t| x^4 \t|\n",
    "| 3 \t| 4 \t| 1 \t| x^8 \t|\n",
    "| 4 \t| 2 \t| 1 \t| x^16 \t|\n",
    "| 5 \t| 1 \t| 1 \t| x^32 \t|\n",
    "| 6 \t| 0 \t| x^32 \t| x^32 \t|"
   ]
  },
  {
   "cell_type": "markdown",
   "metadata": {},
   "source": [
    "Вычислим число операций для возведения в степень $x^{31}$:\n",
    "\n",
    "Двоичная запись числа 31: 11111"
   ]
  },
  {
   "cell_type": "markdown",
   "metadata": {},
   "source": [
    "$l(32)$ = $\\lambda(32)$ + $\\nu(32)$ - 1 = 5 + 1 - 1 = 5"
   ]
  },
  {
   "cell_type": "markdown",
   "metadata": {},
   "source": [
    "Теперь построим последовательность вычислений методом множителей для $x^{31}$ и $x^{32}$"
   ]
  },
  {
   "cell_type": "markdown",
   "metadata": {},
   "source": [
    "\n",
    "$x^{31}$ = $x^{30}*x$. \n",
    "\n",
    "$n$ = 30 = $p*q$ , $p$ - наименьший простой делитель $\\Rightarrow$ $p$ = 2\n",
    "\n",
    "$x^{30}$ = $(x^{15})^2$ = $(x*x^{14})^2$ = $(x*(x^7)^2)^2$ = $(x*(x*(x^3)^2)^2)^2$ = $(x*(x*(x*(x^2))^2)^2)^2$ - 7 операций $\\Rightarrow$ возведение в 31 степень произойдет за 8 операций.\n"
   ]
  },
  {
   "cell_type": "markdown",
   "metadata": {},
   "source": [
    "$x^{32}$ = $(x^{16})^2$ = $((x^{8})^2)^2$ = $(((x^{4})^2)^2)^2$ = $(((((x^2)^2)^2)^2)^2$ - 5 операций"
   ]
  },
  {
   "cell_type": "markdown",
   "metadata": {},
   "source": [
    "**Сравним результаты**"
   ]
  },
  {
   "cell_type": "markdown",
   "metadata": {},
   "source": [
    "| n \t| Бинарный метод \t| Метод множителей \t|\n",
    "|---\t|---\t|---\t|\n",
    "| 31 \t| 8 \t| 8 \t|\n",
    "| 32 \t| 5 \t| 5 \t|"
   ]
  },
  {
   "cell_type": "markdown",
   "metadata": {},
   "source": [
    "**Вывод:**\n",
    "\n",
    "Бинарный метод работает медленнее. Но так как мы использовали небольшие значения $n$, то количество операций в бинарном методе и методе множителей одинаково. "
   ]
  },
  {
   "cell_type": "markdown",
   "metadata": {},
   "source": [
    "# Реализация алгоритма Яо. Пункт 2.\n",
    "\n",
    "Теперь реализуем алгоритм Яо для вычисления приближённых аддитивных цепочек для различных чисел при варьировании параметра k."
   ]
  },
  {
   "cell_type": "code",
   "execution_count": 20,
   "metadata": {},
   "outputs": [],
   "source": [
    "def YAO(n, k):\n",
    "    syst = []\n",
    "    additive_chain = []\n",
    "    temp_n = n\n",
    "    p = 2**k\n",
    "    z = []\n",
    "    syst.append([N, 0])\n",
    "    while temp_n >= p:\n",
    "        syst.append([temp_n//p, temp_n % p])\n",
    "        z.append(temp_n % p)\n",
    "        temp_n //= p\n",
    "    z.append(syst[len(syst) - 1][0])\n",
    "    power = z\n",
    "    z = list(set(z))\n",
    "    z.sort()\n",
    "    print(\"z =\", z)\n",
    "    d = []\n",
    "    d_z = []\n",
    "    for i in z:\n",
    "        d_i = 0;\n",
    "        for j in range(0, len(power)):\n",
    "            if i == power[j]:\n",
    "                d_i += (2**k)**j\n",
    "        d.append(d_i)\n",
    "        d_z.append(d_i*i)\n",
    "    print(\"d(z) = \", d)\n",
    "    print(\"z*d(z) = \", d_z)\n",
    "    equal = 0\n",
    "    for i in d_z:\n",
    "        equal += i\n",
    "    print(equal)\n",
    "    additive_chain = []\n",
    "    first = int(log(n)/log(2))\n",
    "    additive_chain.append(1)\n",
    "    for i in range(1, first + 1):\n",
    "        additive_chain.append(additive_chain[i - 1]*2)\n",
    "    print(additive_chain)"
   ]
  },
  {
   "cell_type": "code",
   "execution_count": 21,
   "metadata": {},
   "outputs": [
    {
     "name": "stdout",
     "output_type": "stream",
     "text": [
      "31415\n",
      "3\n",
      "z = [2, 5, 6, 7]\n",
      "d(z) =  [64, 512, 8, 4097]\n",
      "z*d(z) =  [128, 2560, 48, 28679]\n",
      "31415\n",
      "[1, 2, 4, 8, 16, 32, 64, 128, 256, 512, 1024, 2048, 4096, 8192, 16384]\n"
     ]
    }
   ],
   "source": [
    "n = int(input())\n",
    "k = int(input())\n",
    "YAO(n, k)"
   ]
  },
  {
   "cell_type": "markdown",
   "metadata": {},
   "source": [
    "31415\n",
    "\n",
    "3\n",
    "\n",
    "z = [2, 5, 6, 7]\n",
    "\n",
    "d(z) =  [64, 512, 8, 4097]\n",
    "\n",
    "z*d(z) =  [128, 2560, 48, 28679]\n",
    "\n",
    "31415\n",
    "\n",
    "[1, 2, 4, 8, 16, 24, 32, 48, 64, 128, 256, 512, 1024, 1536, 2048, 2560, 4096, 4097, 8192, 8194, 12291, 16384, 20485, 28679, 28807, 31367, 31415]"
   ]
  },
  {
   "cell_type": "markdown",
   "metadata": {},
   "source": [
    "# Алгоритм дробления вектора индексов для нахождения минимальной звёздной цепочки для заданного числа."
   ]
  },
  {
   "cell_type": "code",
   "execution_count": 7,
   "metadata": {},
   "outputs": [
    {
     "name": "stdout",
     "output_type": "stream",
     "text": [
      "1203\n",
      "completed in 159.36330470000394 seconds\n",
      "Vector [1, 1, 3, 4, 5, 6, 7, 8, 9, 10, 10, 3, 7]\n",
      "Chain [1, 2, 3, 6, 12, 24, 48, 96, 192, 384, 768, 1152, 1155, 1203]\n"
     ]
    }
   ],
   "source": [
    "def hamming(n):\n",
    "    n = Integer(n)\n",
    "    return n.popcount()\n",
    "def generate_vec(m, ch_part):\n",
    "    vec1 = []\n",
    "    vec2 = []\n",
    "    for i in range(1, m + 1):\n",
    "        if i <= int(ch_part):# do not forgot to fix it\n",
    "            vec1.append(i)\n",
    "        else:\n",
    "            vec2.append(i)\n",
    "    return [vec1, vec2]\n",
    "def get_num(vec):\n",
    "    line = []\n",
    "    line.append(1)\n",
    "    for i in range(len(vec)):\n",
    "        line.append(line[i] + line[vec[i] - 1])\n",
    "    return line[len(line) - 1]\n",
    "# decremenation\n",
    "def dec(vec):\n",
    "    _len = len(vec)\n",
    "    for i in range(_len):\n",
    "        if vec[_len - i - 1] > 1:\n",
    "            vec[_len - i - 1] -= 1\n",
    "            for j in range(_len - i, _len):\n",
    "                vec[j] = j + 1\n",
    "            break\n",
    "def generate_part(_len, first):\n",
    "    part = [0]*_len\n",
    "    for i in range(_len):\n",
    "        part[i] = first + i\n",
    "    return part\n",
    "def get_chain(vec):\n",
    "    line = []\n",
    "    line.append(1)\n",
    "    for i in range(len(vec)):\n",
    "        line.append(line[i] + line[vec[i] - 1])\n",
    "    return line\n",
    "def empty(vec):\n",
    "    for i in vec:\n",
    "        if i > 1:\n",
    "            return False\n",
    "    return True\n",
    "def index(n):\n",
    "    l_min = math.ceil(math.log2(n)) #minimum length\n",
    "    l_max = int(math.log2(n) + hamming(n)) #maximum length\n",
    "    for m in range(l_min, l_max):\n",
    "        q = int(m/2)\n",
    "        vec = generate_vec(m, q)\n",
    "        #print(vec)\n",
    "        static_part = generate_part(q, 1)\n",
    "        \n",
    "        while true: #sorting out all static parts\n",
    "            dynamic_part = generate_part(m - q, q + 1)\n",
    "            bounds = [0]*2\n",
    "            a = get_num(static_part)\n",
    "            bounds[0] = a + m - q\n",
    "            bounds[1] = a * 2 ** (m - q)\n",
    "\n",
    "            \n",
    "            if n < bounds[0] or n > bounds[1]:\n",
    "                if empty(static_part) and len(static_part) > 1:\n",
    "                    break\n",
    "                dec(static_part)\n",
    "                continue\n",
    "                \n",
    "            while True: #sorting out all dynamic parts\n",
    "                if get_num(static_part + dynamic_part) == n:\n",
    "                    return static_part + dynamic_part\n",
    "                if empty(dynamic_part):\n",
    "                    break\n",
    "                dec(dynamic_part)\n",
    "                #print(static_part + dynamic_part)\n",
    "            if empty(static_part):\n",
    "                break\n",
    "            dec(static_part)   \n",
    "    print(\"Problem\")\n",
    "import timeit\n",
    "def calculate(N):\n",
    "    start_time = timeit.default_timer()\n",
    "    res = index(N)\n",
    "    print(\"completed in\", timeit.default_timer() - start_time, \"seconds\")\n",
    "    return res\n",
    "n = int(input()) #get a number to create our vector\n",
    "ind = calculate(n)\n",
    "print(\"Vector\", ind)\n",
    "print(\"Chain\", get_chain(ind))"
   ]
  },
  {
   "cell_type": "markdown",
   "metadata": {},
   "source": [
    "1000\n",
    "\n",
    "completed in 1.724324999959208 seconds\n",
    "\n",
    "Vector [1, 2, 3, 4, 4, 1, 7, 8, 9, 10, 11, 10]\n",
    "\n",
    "Chain [1, 2, 4, 8, 16, 24, 25, 50, 100, 200, 400, 800, 1000]\n",
    "\n",
    "\n",
    "1025\n",
    "\n",
    "completed in 0.00034009991213679314 seconds\n",
    "\n",
    "Vector [1, 2, 3, 4, 5, 6, 7, 8, 9, 10, 1]\n",
    "\n",
    "Chain [1, 2, 4, 8, 16, 32, 64, 128, 256, 512, 1024, 1025]\n",
    "\n",
    "\n",
    "1023\n",
    "\n",
    "completed in 168.57069039996713 seconds\n",
    "\n",
    "Vector [1, 1, 3, 4, 5, 4, 7, 8, 9, 10, 11, 8, 3]\n",
    "\n",
    "Chain [1, 2, 3, 6, 12, 24, 30, 60, 120, 240, 480, 960, 1020, 1023]\n",
    "\n",
    "\n",
    "1488\n",
    "\n",
    "completed in 262.1193876999896 seconds\n",
    "\n",
    "Vector [1, 2, 3, 4, 5, 6, 5, 8, 9, 10, 11, 9, 6, 5]\n",
    "\n",
    "Chain [1, 2, 4, 8, 16, 32, 64, 80, 160, 320, 640, 1280, 1440, 1472, 1488]\n",
    "\n",
    "\n",
    "1203\n",
    "\n",
    "completed in 159.36330470000394 seconds\n",
    "\n",
    "Vector [1, 1, 3, 4, 5, 6, 7, 8, 9, 10, 10, 3, 7]\n",
    "\n",
    "Chain [1, 2, 3, 6, 12, 24, 48, 96, 192, 384, 768, 1152, 1155, 1203]\n"
   ]
  },
  {
   "cell_type": "markdown",
   "metadata": {},
   "source": [
    "# Проверим теорему Шольца-Брауэра"
   ]
  },
  {
   "cell_type": "code",
   "execution_count": null,
   "metadata": {},
   "outputs": [
    {
     "name": "stdout",
     "output_type": "stream",
     "text": [
      "n = 1 , l(n) = 1 , l(2^n - 1) = 1\n",
      "l(2^n - 1) <= n - 1 + l(n):  True\n",
      "\n",
      "n = 2 , l(n) = 2 , l(2^n - 1) = 3\n",
      "l(2^n - 1) <= n - 1 + l(n):  True\n",
      "\n",
      "n = 3 , l(n) = 3 , l(2^n - 1) = 5\n",
      "l(2^n - 1) <= n - 1 + l(n):  True\n",
      "\n",
      "n = 4 , l(n) = 3 , l(2^n - 1) = 6\n",
      "l(2^n - 1) <= n - 1 + l(n):  True\n",
      "\n",
      "n = 5 , l(n) = 4 , l(2^n - 1) = 8\n",
      "l(2^n - 1) <= n - 1 + l(n):  True\n",
      "\n",
      "n = 6 , l(n) = 4 , l(2^n - 1) = 9\n",
      "l(2^n - 1) <= n - 1 + l(n):  True\n",
      "\n",
      "n = 7 , l(n) = 5 , l(2^n - 1) = 11\n",
      "l(2^n - 1) <= n - 1 + l(n):  True\n",
      "\n",
      "n = 8 , l(n) = 4 , l(2^n - 1) = 11\n",
      "l(2^n - 1) <= n - 1 + l(n):  True\n",
      "\n",
      "n = 9 , l(n) = 5 , l(2^n - 1) = 13\n",
      "l(2^n - 1) <= n - 1 + l(n):  True\n",
      "\n",
      "n = 10 , l(n) = 5 , l(2^n - 1) = 14\n",
      "l(2^n - 1) <= n - 1 + l(n):  True\n",
      "\n"
     ]
    }
   ],
   "source": [
    "for i in range(1, 13):\n",
    "    k = index(i)\n",
    "    _k = index(2**i - 1)\n",
    "    chain = get_chain(k)\n",
    "    _chain = get_chain(_k)\n",
    "    print(\"n =\", i, \", l(n) =\", len(chain), \", l(2^n - 1) =\", len(_chain))\n",
    "    print(\"l(2^n - 1) <= n - 1 + l(n): \", len(_chain) <= i - 1 + len(chain))\n",
    "    print()"
   ]
  },
  {
   "cell_type": "markdown",
   "metadata": {},
   "source": [
    "| n \t| l*(n) \t| l*(2^n-1) \t| Theorem \t|\n",
    "|---\t|---\t|---\t|---\t|\n",
    "| 1 \t| 1 \t| 1 \t| completed \t|\n",
    "| 2 \t| 2 \t| 3 \t| completed \t|\n",
    "| 3 \t| 3 \t| 5 \t| completed \t|\n",
    "| 4 \t| 3 \t| 6 \t| completed \t|\n",
    "| 5 \t| 4 \t| 8 \t| completed \t|\n",
    "| 6 \t| 4 \t| 9 \t| completed \t|\n",
    "| 7 \t| 5 \t| 11 \t| completed \t|\n",
    "| 8 \t| 4 \t| 11 \t| completed \t|\n",
    "| 9 \t| 5 \t| 13 \t| completed \t|\n",
    "| 10 \t| 5 \t| 14 \t| completed \t|\n",
    "| 11 \t| 6 \t| 16 \t| completed \t|\n",
    "| 12 \t| 5 \t| 16 \t| completed \t|"
   ]
  },
  {
   "cell_type": "markdown",
   "metadata": {},
   "source": [
    "# Выводы:\n",
    "\n",
    "$\\bullet$ Время работы алгоритма очень большое. Зависит от длины числа. Полученыые цепочки не являются кратчайшими. \n",
    "\n",
    "$\\bullet$ Гипотеза Шольца-Брауэра верна для n $\\in$ (1;12)\n",
    "\n",
    "\n",
    "\n"
   ]
  },
  {
   "cell_type": "code",
   "execution_count": null,
   "metadata": {},
   "outputs": [],
   "source": []
  }
 ],
 "metadata": {
  "kernelspec": {
   "display_name": "SageMath 9.3",
   "language": "sage",
   "name": "sagemath"
  }
 },
 "nbformat": 4,
 "nbformat_minor": 4
}
